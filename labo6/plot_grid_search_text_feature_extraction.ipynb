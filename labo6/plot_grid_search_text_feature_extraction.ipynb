{
  "cells": [
    {
      "cell_type": "code",
      "execution_count": 3,
      "metadata": {},
      "outputs": [
        {
          "name": "stderr",
          "output_type": "stream",
          "text": [
            "[nltk_data] Downloading package reuters to\n",
            "[nltk_data]     C:\\Users\\lcsch\\AppData\\Roaming\\nltk_data...\n"
          ]
        },
        {
          "name": "stdout",
          "output_type": "stream",
          "text": [
            "\n",
            "      The Reuters-21578 benchmark corpus, ApteMod version\n",
            "\n",
            "This is a publically available version of the well-known Reuters-21578\n",
            "\"ApteMod\" corpus for text categorization.  It has been used in\n",
            "publications like these:\n",
            "\n",
            " * Yiming Yang and X. Liu. \"A re-examination of text categorization\n",
            "   methods\".  1999.  Proceedings of 22nd Annual International SIGIR.\n",
            "   http://citeseer.nj.nec.com/yang99reexamination.html\n",
            "\n",
            " * Thorsten Joachims. \"Text categorization with support vector\n",
            "   machines: learning with many relevant features\".  1998. Proceedings\n",
            "   of ECML-98, 10th European Conference on Machine Learning.\n",
            "   http://citeseer.nj.nec.com/joachims98text.html\n",
            "\n",
            "ApteMod is a collection of 10,788 documents from the Reuters financial\n",
            "newswire service, partitioned into a training set with 7769 documents\n",
            "and a test set with 3019 documents.  The total size of the corpus is\n",
            "about 43 MB.  It is also available for download from\n",
            "http://kdd.ics.uci.edu/databases/reuters21578/reuters21578.html ,\n",
            "which includes a more extensive history of the data revisions.\n",
            "\n",
            "The distribution of categories in the ApteMod corpus is highly skewed,\n",
            "with 36.7% of the documents in the most common category, and only\n",
            "0.0185% (2 documents) in each of the five least common categories.\n",
            "In fact, the original data source is even more skewed---in creating\n",
            "the corpus, any categories that did not contain at least one document\n",
            "in the training set and one document in the test set were removed from\n",
            "the corpus by its original creator.\n",
            "\n",
            "In the ApteMod corpus, each document belongs to one or more\n",
            "categories.  There are 90 categories in the corpus.  The average\n",
            "number of categories per document is 1.235, and the average number of\n",
            "documents per category is about 148, or 1.37% of the corpus.\n",
            "\n",
            " -Ken Williams\n",
            "  ken@mathforum.org\n",
            "\n",
            "         Copyright & Notification \n",
            "\n",
            "(extracted from the README at the UCI address above)\n",
            "\n",
            "The copyright for the text of newswire articles and Reuters\n",
            "annotations in the Reuters-21578 collection resides with Reuters Ltd.\n",
            "Reuters Ltd. and Carnegie Group, Inc. have agreed to allow the free\n",
            "distribution of this data *for research purposes only*.  \n",
            "\n",
            "If you publish results based on this data set, please acknowledge\n",
            "its use, refer to the data set by the name \"Reuters-21578,\n",
            "Distribution 1.0\", and inform your readers of the current location of\n",
            "the data set (see \"Availability & Questions\").\n",
            "\n",
            "\n",
            "['test/15119', 'test/15120', 'test/15121', 'test/15122', 'test/15124']\n",
            "training files :  7769\n",
            "testing files :  3019\n",
            "total files :  10788\n",
            "['CELLTRONICS', '&', 'lt', ';', 'CELT', '>', 'DECLARES', 'ONE', '-', 'FOR', '-', '10', 'SPLIT', 'Celltronics', 'Inc', 'said', 'its', 'directors', 'declared', 'a', 'one', '-', 'for', '-', '10', 'reverse', 'stock', 'split', 'of', 'its', 'common', 'stock', '.', 'It', 'said', 'the', 'split', 'will', 'be', 'payable', 'April', '17', 'to', 'shareholders', 'of', 'record', 'April', '16', '.']\n",
            "['earn']\n"
          ]
        }
      ],
      "source": [
        "from nltk.corpus import reuters\n",
        "import nltk\n",
        "\n",
        "nltk.download('reuters')\n",
        "\n",
        "print(reuters.readme())\n",
        "print(reuters.fileids()[150:155])\n",
        "print('training files : ', len([fid for fid in reuters.fileids() if fid[:5] == 'train']))\n",
        "print('testing files : ', len([fid for fid in reuters.fileids() if fid[:4] == 'test']))\n",
        "print('total files : ', len(reuters.fileids()))\n",
        "print(reuters.words('test/15120')[:200])\n",
        "print(reuters.categories('test/15120'))"
      ]
    },
    {
      "cell_type": "markdown",
      "metadata": {},
      "source": [
        "## Question 1\n",
        "\n",
        "Il y a 10788 documents au total, dont 7769 d'entraînement et 3019 de test. Nous rechercherons les paramètres optimaux sur les documents de test."
      ]
    },
    {
      "cell_type": "markdown",
      "metadata": {},
      "source": [
        "\n",
        "# Sample pipeline for text feature extraction and evaluation\n",
        "\n",
        "The dataset used in this example is `20newsgroups_dataset` which will be\n",
        "automatically downloaded, cached and reused for the document classification\n",
        "example.\n",
        "\n",
        "In this example, we tune the hyperparameters of a particular classifier using a\n",
        ":class:`~sklearn.model_selection.RandomizedSearchCV`. For a demo on the\n",
        "performance of some other classifiers, see the\n",
        "`sphx_glr_auto_examples_text_plot_document_classification_20newsgroups.py`\n",
        "notebook.\n"
      ]
    },
    {
      "cell_type": "code",
      "execution_count": null,
      "metadata": {
        "collapsed": false
      },
      "outputs": [],
      "source": [
        "# Author: Olivier Grisel <olivier.grisel@ensta.org>\n",
        "#         Peter Prettenhofer <peter.prettenhofer@gmail.com>\n",
        "#         Mathieu Blondel <mathieu@mblondel.org>\n",
        "#         Arturo Amor <david-arturo.amor-quiroz@inria.fr>\n",
        "# License: BSD 3 clause"
      ]
    },
    {
      "cell_type": "markdown",
      "metadata": {},
      "source": [
        "## Data loading\n",
        "We load two categories from the training set. You can adjust the number of\n",
        "categories by adding their names to the list or setting `categories=None` when\n",
        "calling the dataset loader :func:`~sklearn.datasets.fetch_20newsgroups` to get\n",
        "the 20 of them.\n",
        "\n"
      ]
    },
    {
      "cell_type": "code",
      "execution_count": null,
      "metadata": {
        "collapsed": false
      },
      "outputs": [],
      "source": [
        "from sklearn.datasets import fetch_20newsgroups\n",
        "\n",
        "categories = [\n",
        "    \"alt.atheism\",\n",
        "    \"talk.religion.misc\",\n",
        "]\n",
        "\n",
        "data_train = fetch_20newsgroups(\n",
        "    subset=\"train\",\n",
        "    categories=categories,\n",
        "    shuffle=True,\n",
        "    random_state=42,\n",
        "    remove=(\"headers\", \"footers\", \"quotes\"),\n",
        ")\n",
        "\n",
        "data_test = fetch_20newsgroups(\n",
        "    subset=\"test\",\n",
        "    categories=categories,\n",
        "    shuffle=True,\n",
        "    random_state=42,\n",
        "    remove=(\"headers\", \"footers\", \"quotes\"),\n",
        ")\n",
        "\n",
        "print(f\"Loading 20 newsgroups dataset for {len(data_train.target_names)} categories:\")\n",
        "print(data_train.target_names)\n",
        "print(f\"{len(data_train.data)} documents\")"
      ]
    },
    {
      "cell_type": "markdown",
      "metadata": {},
      "source": [
        "## Pipeline with hyperparameter tuning\n",
        "\n",
        "We define a pipeline combining a text feature vectorizer with a simple\n",
        "classifier yet effective for text classification.\n",
        "\n"
      ]
    },
    {
      "cell_type": "code",
      "execution_count": null,
      "metadata": {
        "collapsed": false
      },
      "outputs": [],
      "source": [
        "from sklearn.feature_extraction.text import TfidfVectorizer\n",
        "from sklearn.naive_bayes import ComplementNB\n",
        "from sklearn.pipeline import Pipeline\n",
        "\n",
        "pipeline = Pipeline(\n",
        "    [\n",
        "        (\"vect\", TfidfVectorizer()),\n",
        "        (\"clf\", ComplementNB()),\n",
        "    ]\n",
        ")\n",
        "pipeline"
      ]
    },
    {
      "cell_type": "markdown",
      "metadata": {},
      "source": [
        "We define a grid of hyperparameters to be explored by the\n",
        ":class:`~sklearn.model_selection.RandomizedSearchCV`. Using a\n",
        ":class:`~sklearn.model_selection.GridSearchCV` instead would explore all the\n",
        "possible combinations on the grid, which can be costly to compute, whereas the\n",
        "parameter `n_iter` of the :class:`~sklearn.model_selection.RandomizedSearchCV`\n",
        "controls the number of different random combination that are evaluated. Notice\n",
        "that setting `n_iter` larger than the number of possible combinations in a\n",
        "grid would lead to repeating already-explored combinations. We search for the\n",
        "best parameter combination for both the feature extraction (`vect__`) and the\n",
        "classifier (`clf__`).\n",
        "\n"
      ]
    },
    {
      "cell_type": "code",
      "execution_count": null,
      "metadata": {
        "collapsed": false
      },
      "outputs": [],
      "source": [
        "import numpy as np\n",
        "\n",
        "parameter_grid = {\n",
        "    \"vect__max_df\": (0.2, 0.4, 0.6, 0.8, 1.0),\n",
        "    \"vect__min_df\": (1, 3, 5, 10),\n",
        "    \"vect__ngram_range\": ((1, 1), (1, 2)),  # unigrams or bigrams\n",
        "    \"vect__norm\": (\"l1\", \"l2\"),\n",
        "    \"clf__alpha\": np.logspace(-6, 6, 13),\n",
        "}"
      ]
    },
    {
      "cell_type": "markdown",
      "metadata": {},
      "source": [
        "In this case `n_iter=40` is not an exhaustive search of the hyperparameters'\n",
        "grid. In practice it would be interesting to increase the parameter `n_iter`\n",
        "to get a more informative analysis. As a consequence, the computional time\n",
        "increases. We can reduce it by taking advantage of the parallelisation over\n",
        "the parameter combinations evaluation by increasing the number of CPUs used\n",
        "via the parameter `n_jobs`.\n",
        "\n"
      ]
    },
    {
      "cell_type": "code",
      "execution_count": null,
      "metadata": {
        "collapsed": false
      },
      "outputs": [],
      "source": [
        "from pprint import pprint\n",
        "\n",
        "from sklearn.model_selection import RandomizedSearchCV\n",
        "\n",
        "random_search = RandomizedSearchCV(\n",
        "    estimator=pipeline,\n",
        "    param_distributions=parameter_grid,\n",
        "    n_iter=40,\n",
        "    random_state=0,\n",
        "    n_jobs=2,\n",
        "    verbose=1,\n",
        ")\n",
        "\n",
        "print(\"Performing grid search...\")\n",
        "print(\"Hyperparameters to be evaluated:\")\n",
        "pprint(parameter_grid)"
      ]
    },
    {
      "cell_type": "code",
      "execution_count": null,
      "metadata": {
        "collapsed": false
      },
      "outputs": [],
      "source": [
        "from time import time\n",
        "\n",
        "t0 = time()\n",
        "random_search.fit(data_train.data, data_train.target)\n",
        "print(f\"Done in {time() - t0:.3f}s\")"
      ]
    },
    {
      "cell_type": "code",
      "execution_count": null,
      "metadata": {
        "collapsed": false
      },
      "outputs": [],
      "source": [
        "print(\"Best parameters combination found:\")\n",
        "best_parameters = random_search.best_estimator_.get_params()\n",
        "for param_name in sorted(parameter_grid.keys()):\n",
        "    print(f\"{param_name}: {best_parameters[param_name]}\")"
      ]
    },
    {
      "cell_type": "code",
      "execution_count": null,
      "metadata": {
        "collapsed": false
      },
      "outputs": [],
      "source": [
        "test_accuracy = random_search.score(data_test.data, data_test.target)\n",
        "print(\n",
        "    \"Accuracy of the best parameters using the inner CV of \"\n",
        "    f\"the random search: {random_search.best_score_:.3f}\"\n",
        ")\n",
        "print(f\"Accuracy on test set: {test_accuracy:.3f}\")"
      ]
    },
    {
      "cell_type": "markdown",
      "metadata": {},
      "source": [
        "The prefixes `vect` and `clf` are required to avoid possible ambiguities in\n",
        "the pipeline, but are not necessary for visualizing the results. Because of\n",
        "this, we define a function that will rename the tuned hyperparameters and\n",
        "improve the readability.\n",
        "\n"
      ]
    },
    {
      "cell_type": "code",
      "execution_count": null,
      "metadata": {
        "collapsed": false
      },
      "outputs": [],
      "source": [
        "import pandas as pd\n",
        "\n",
        "\n",
        "def shorten_param(param_name):\n",
        "    \"\"\"Remove components' prefixes in param_name.\"\"\"\n",
        "    if \"__\" in param_name:\n",
        "        return param_name.rsplit(\"__\", 1)[1]\n",
        "    return param_name\n",
        "\n",
        "\n",
        "cv_results = pd.DataFrame(random_search.cv_results_)\n",
        "cv_results = cv_results.rename(shorten_param, axis=1)"
      ]
    },
    {
      "cell_type": "markdown",
      "metadata": {},
      "source": [
        "We can use a [plotly.express.scatter](https://plotly.com/python-api-reference/generated/plotly.express.scatter.html)\n",
        "to visualize the trade-off between scoring time and mean test score (i.e. \"CV\n",
        "score\"). Passing the cursor over a given point displays the corresponding\n",
        "parameters. Error bars correspond to one standard deviation as computed in the\n",
        "different folds of the cross-validation.\n",
        "\n"
      ]
    },
    {
      "cell_type": "code",
      "execution_count": null,
      "metadata": {
        "collapsed": false
      },
      "outputs": [],
      "source": [
        "import plotly.express as px\n",
        "\n",
        "param_names = [shorten_param(name) for name in parameter_grid.keys()]\n",
        "labels = {\n",
        "    \"mean_score_time\": \"CV Score time (s)\",\n",
        "    \"mean_test_score\": \"CV score (accuracy)\",\n",
        "}\n",
        "fig = px.scatter(\n",
        "    cv_results,\n",
        "    x=\"mean_score_time\",\n",
        "    y=\"mean_test_score\",\n",
        "    error_x=\"std_score_time\",\n",
        "    error_y=\"std_test_score\",\n",
        "    hover_data=param_names,\n",
        "    labels=labels,\n",
        ")\n",
        "fig.update_layout(\n",
        "    title={\n",
        "        \"text\": \"trade-off between scoring time and mean test score\",\n",
        "        \"y\": 0.95,\n",
        "        \"x\": 0.5,\n",
        "        \"xanchor\": \"center\",\n",
        "        \"yanchor\": \"top\",\n",
        "    }\n",
        ")\n",
        "fig"
      ]
    },
    {
      "cell_type": "markdown",
      "metadata": {},
      "source": [
        "Notice that the cluster of models in the upper-left corner of the plot have\n",
        "the best trade-off between accuracy and scoring time. In this case, using\n",
        "bigrams increases the required scoring time without improving considerably the\n",
        "accuracy of the pipeline.\n",
        "\n",
        "<div class=\"alert alert-info\"><h4>Note</h4><p>For more information on how to customize an automated tuning to\n",
        "   maximize score and minimize scoring time, see the example notebook\n",
        "   `sphx_glr_auto_examples_model_selection_plot_grid_search_digits.py`.</p></div>\n",
        "\n",
        "We can also use a [plotly.express.parallel_coordinates](https://plotly.com/python-api-reference/generated/plotly.express.parallel_coordinates.html)\n",
        "to further visualize the mean test score as a function of the tuned\n",
        "hyperparameters. This helps finding interactions between more than two\n",
        "hyperparameters and provide intuition on their relevance for improving the\n",
        "performance of a pipeline.\n",
        "\n",
        "We apply a `math.log10` transformation on the `alpha` axis to spread the\n",
        "active range and improve the readability of the plot. A value $x$ on\n",
        "said axis is to be understood as $10^x$.\n",
        "\n"
      ]
    },
    {
      "cell_type": "code",
      "execution_count": null,
      "metadata": {
        "collapsed": false
      },
      "outputs": [],
      "source": [
        "import math\n",
        "\n",
        "column_results = param_names + [\"mean_test_score\", \"mean_score_time\"]\n",
        "\n",
        "transform_funcs = dict.fromkeys(column_results, lambda x: x)\n",
        "# Using a logarithmic scale for alpha\n",
        "transform_funcs[\"alpha\"] = math.log10\n",
        "# L1 norms are mapped to index 1, and L2 norms to index 2\n",
        "transform_funcs[\"norm\"] = lambda x: 2 if x == \"l2\" else 1\n",
        "# Unigrams are mapped to index 1 and bigrams to index 2\n",
        "transform_funcs[\"ngram_range\"] = lambda x: x[1]\n",
        "\n",
        "fig = px.parallel_coordinates(\n",
        "    cv_results[column_results].apply(transform_funcs),\n",
        "    color=\"mean_test_score\",\n",
        "    color_continuous_scale=px.colors.sequential.Viridis_r,\n",
        "    labels=labels,\n",
        ")\n",
        "fig.update_layout(\n",
        "    title={\n",
        "        \"text\": \"Parallel coordinates plot of text classifier pipeline\",\n",
        "        \"y\": 0.99,\n",
        "        \"x\": 0.5,\n",
        "        \"xanchor\": \"center\",\n",
        "        \"yanchor\": \"top\",\n",
        "    }\n",
        ")\n",
        "fig"
      ]
    },
    {
      "cell_type": "markdown",
      "metadata": {},
      "source": [
        "The parallel coordinates plot displays the values of the hyperparameters on\n",
        "different columns while the performance metric is color coded. It is possible\n",
        "to select a range of results by clicking and holding on any axis of the\n",
        "parallel coordinate plot. You can then slide (move) the range selection and\n",
        "cross two selections to see the intersections. You can undo a selection by\n",
        "clicking once again on the same axis.\n",
        "\n",
        "In particular for this hyperparameter search, it is interesting to notice that\n",
        "the top performing models do not seem to depend on the regularization `norm`,\n",
        "but they do depend on a trade-off between `max_df`, `min_df` and the\n",
        "regularization strength `alpha`. The reason is that including noisy features\n",
        "(i.e. `max_df` close to $1.0$ or `min_df` close to $0$) tend to\n",
        "overfit and therefore require a stronger regularization to compensate. Having\n",
        "less features require less regularization and less scoring time.\n",
        "\n",
        "The best accuracy scores are obtained when `alpha` is between $10^{-6}$\n",
        "and $10^0$, regardless of the hyperparameter `norm`.\n",
        "\n"
      ]
    }
  ],
  "metadata": {
    "kernelspec": {
      "display_name": "Python 3",
      "language": "python",
      "name": "python3"
    },
    "language_info": {
      "codemirror_mode": {
        "name": "ipython",
        "version": 3
      },
      "file_extension": ".py",
      "mimetype": "text/x-python",
      "name": "python",
      "nbconvert_exporter": "python",
      "pygments_lexer": "ipython3",
      "version": "3.9.13"
    }
  },
  "nbformat": 4,
  "nbformat_minor": 0
}
