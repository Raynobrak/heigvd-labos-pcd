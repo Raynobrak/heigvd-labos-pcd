{
  "cells": [
    {
      "cell_type": "code",
      "execution_count": 3,
      "metadata": {},
      "outputs": [
        {
          "name": "stderr",
          "output_type": "stream",
          "text": [
            "[nltk_data] Downloading package reuters to\n",
            "[nltk_data]     C:\\Users\\lcsch\\AppData\\Roaming\\nltk_data...\n"
          ]
        },
        {
          "name": "stdout",
          "output_type": "stream",
          "text": [
            "\n",
            "      The Reuters-21578 benchmark corpus, ApteMod version\n",
            "\n",
            "This is a publically available version of the well-known Reuters-21578\n",
            "\"ApteMod\" corpus for text categorization.  It has been used in\n",
            "publications like these:\n",
            "\n",
            " * Yiming Yang and X. Liu. \"A re-examination of text categorization\n",
            "   methods\".  1999.  Proceedings of 22nd Annual International SIGIR.\n",
            "   http://citeseer.nj.nec.com/yang99reexamination.html\n",
            "\n",
            " * Thorsten Joachims. \"Text categorization with support vector\n",
            "   machines: learning with many relevant features\".  1998. Proceedings\n",
            "   of ECML-98, 10th European Conference on Machine Learning.\n",
            "   http://citeseer.nj.nec.com/joachims98text.html\n",
            "\n",
            "ApteMod is a collection of 10,788 documents from the Reuters financial\n",
            "newswire service, partitioned into a training set with 7769 documents\n",
            "and a test set with 3019 documents.  The total size of the corpus is\n",
            "about 43 MB.  It is also available for download from\n",
            "http://kdd.ics.uci.edu/databases/reuters21578/reuters21578.html ,\n",
            "which includes a more extensive history of the data revisions.\n",
            "\n",
            "The distribution of categories in the ApteMod corpus is highly skewed,\n",
            "with 36.7% of the documents in the most common category, and only\n",
            "0.0185% (2 documents) in each of the five least common categories.\n",
            "In fact, the original data source is even more skewed---in creating\n",
            "the corpus, any categories that did not contain at least one document\n",
            "in the training set and one document in the test set were removed from\n",
            "the corpus by its original creator.\n",
            "\n",
            "In the ApteMod corpus, each document belongs to one or more\n",
            "categories.  There are 90 categories in the corpus.  The average\n",
            "number of categories per document is 1.235, and the average number of\n",
            "documents per category is about 148, or 1.37% of the corpus.\n",
            "\n",
            " -Ken Williams\n",
            "  ken@mathforum.org\n",
            "\n",
            "         Copyright & Notification \n",
            "\n",
            "(extracted from the README at the UCI address above)\n",
            "\n",
            "The copyright for the text of newswire articles and Reuters\n",
            "annotations in the Reuters-21578 collection resides with Reuters Ltd.\n",
            "Reuters Ltd. and Carnegie Group, Inc. have agreed to allow the free\n",
            "distribution of this data *for research purposes only*.  \n",
            "\n",
            "If you publish results based on this data set, please acknowledge\n",
            "its use, refer to the data set by the name \"Reuters-21578,\n",
            "Distribution 1.0\", and inform your readers of the current location of\n",
            "the data set (see \"Availability & Questions\").\n",
            "\n",
            "\n",
            "['test/15119', 'test/15120', 'test/15121', 'test/15122', 'test/15124']\n",
            "training files :  7769\n",
            "testing files :  3019\n",
            "total files :  10788\n",
            "['CELLTRONICS', '&', 'lt', ';', 'CELT', '>', 'DECLARES', 'ONE', '-', 'FOR', '-', '10', 'SPLIT', 'Celltronics', 'Inc', 'said', 'its', 'directors', 'declared', 'a', 'one', '-', 'for', '-', '10', 'reverse', 'stock', 'split', 'of', 'its', 'common', 'stock', '.', 'It', 'said', 'the', 'split', 'will', 'be', 'payable', 'April', '17', 'to', 'shareholders', 'of', 'record', 'April', '16', '.']\n",
            "['earn']\n"
          ]
        }
      ],
      "source": [
        "from nltk.corpus import reuters\n",
        "import nltk\n",
        "\n",
        "nltk.download('reuters')\n",
        "\n",
        "print(reuters.readme())\n",
        "print(reuters.fileids()[150:155])\n",
        "print('training files : ', len([fid for fid in reuters.fileids() if fid[:5] == 'train']))\n",
        "print('testing files : ', len([fid for fid in reuters.fileids() if fid[:4] == 'test']))\n",
        "print('total files : ', len(reuters.fileids()))\n",
        "print(reuters.words('test/15120')[:200])\n",
        "print(reuters.categories('test/15120'))"
      ]
    },
    {
      "cell_type": "markdown",
      "metadata": {},
      "source": [
        "## Question 1\n",
        "\n",
        "Il y a 10788 documents au total, dont 7769 d'entraînement et 3019 de test. Nous rechercherons les paramètres optimaux sur les documents de test."
      ]
    },
    {
      "cell_type": "markdown",
      "metadata": {},
      "source": [
        "## Question 2\n",
        "Transformation en dataframes pandas"
      ]
    },
    {
      "cell_type": "code",
      "execution_count": 6,
      "metadata": {},
      "outputs": [
        {
          "data": {
            "text/html": [
              "<div>\n",
              "<style scoped>\n",
              "    .dataframe tbody tr th:only-of-type {\n",
              "        vertical-align: middle;\n",
              "    }\n",
              "\n",
              "    .dataframe tbody tr th {\n",
              "        vertical-align: top;\n",
              "    }\n",
              "\n",
              "    .dataframe thead th {\n",
              "        text-align: right;\n",
              "    }\n",
              "</style>\n",
              "<table border=\"1\" class=\"dataframe\">\n",
              "  <thead>\n",
              "    <tr style=\"text-align: right;\">\n",
              "      <th></th>\n",
              "      <th>fulltext</th>\n",
              "      <th>category</th>\n",
              "    </tr>\n",
              "  </thead>\n",
              "  <tbody>\n",
              "    <tr>\n",
              "      <th>0</th>\n",
              "      <td>ASIAN EXPORTERS FEAR DAMAGE FROM U . S .- JAPA...</td>\n",
              "      <td>1</td>\n",
              "    </tr>\n",
              "    <tr>\n",
              "      <th>1</th>\n",
              "      <td>CHINA DAILY SAYS VERMIN EAT 7 - 12 PCT GRAIN S...</td>\n",
              "      <td>0</td>\n",
              "    </tr>\n",
              "    <tr>\n",
              "      <th>2</th>\n",
              "      <td>JAPAN TO REVISE LONG - TERM ENERGY DEMAND DOWN...</td>\n",
              "      <td>1</td>\n",
              "    </tr>\n",
              "    <tr>\n",
              "      <th>3</th>\n",
              "      <td>THAI TRADE DEFICIT WIDENS IN FIRST QUARTER Tha...</td>\n",
              "      <td>0</td>\n",
              "    </tr>\n",
              "    <tr>\n",
              "      <th>4</th>\n",
              "      <td>INDONESIA SEES CPO PRICE RISING SHARPLY Indone...</td>\n",
              "      <td>1</td>\n",
              "    </tr>\n",
              "  </tbody>\n",
              "</table>\n",
              "</div>"
            ],
            "text/plain": [
              "                                            fulltext  category\n",
              "0  ASIAN EXPORTERS FEAR DAMAGE FROM U . S .- JAPA...         1\n",
              "1  CHINA DAILY SAYS VERMIN EAT 7 - 12 PCT GRAIN S...         0\n",
              "2  JAPAN TO REVISE LONG - TERM ENERGY DEMAND DOWN...         1\n",
              "3  THAI TRADE DEFICIT WIDENS IN FIRST QUARTER Tha...         0\n",
              "4  INDONESIA SEES CPO PRICE RISING SHARPLY Indone...         1"
            ]
          },
          "execution_count": 6,
          "metadata": {},
          "output_type": "execute_result"
        }
      ],
      "source": [
        "import pandas as pd\n",
        "\n",
        "train_fids = [fid for fid in reuters.fileids() if fid[:5] == 'train']\n",
        "test_fids = [fid for fid in reuters.fileids() if fid[:4] == 'test']\n",
        "\n",
        "def get_text_and_category(fileid):\n",
        "    fulltext = ' '.join(reuters.words(fileid))\n",
        "    category = 1 if 'grain' in reuters.categories(fileid) else 0\n",
        "    return fulltext, category\n",
        "\n",
        "# Create a list of tuples containing text and category for each fileid\n",
        "train_data = [(get_text_and_category(fileid)) for fileid in train_fids]\n",
        "train_df = pd.DataFrame(train_data, columns=['fulltext', 'category'])\n",
        "\n",
        "test_data = [(get_text_and_category(fileid)) for fileid in test_fids]\n",
        "test_df = pd.DataFrame(test_data, columns=['fulltext', 'category'])\n",
        "\n",
        "train_df.head()\n",
        "test_df.head()"
      ]
    },
    {
      "cell_type": "markdown",
      "metadata": {},
      "source": [
        "## Question 3"
      ]
    },
    {
      "cell_type": "code",
      "execution_count": 18,
      "metadata": {},
      "outputs": [
        {
          "name": "stdout",
          "output_type": "stream",
          "text": [
            "Performing grid search...\n",
            "Hyperparameters to be evaluated:\n",
            "{'vect__min_df': (1, 3, 5, 10)}\n",
            "Fitting 5 folds for each of 4 candidates, totalling 20 fits\n",
            "Done in 8.317s\n"
          ]
        }
      ],
      "source": [
        "from sklearn.feature_extraction.text import TfidfVectorizer\n",
        "from sklearn.naive_bayes import ComplementNB\n",
        "from sklearn.pipeline import Pipeline\n",
        "from pprint import pprint\n",
        "from sklearn.model_selection import GridSearchCV\n",
        "from time import time\n",
        "\n",
        "pipeline = Pipeline(\n",
        "    [\n",
        "        (\"vect\", TfidfVectorizer()),\n",
        "        (\"clf\", ComplementNB()),\n",
        "    ]\n",
        ")\n",
        "pipeline\n",
        "\n",
        "import numpy as np\n",
        "\n",
        "parameter_grid = {\n",
        "    #\"vect__max_df\": (0.2, 0.4, 0.6, 0.8, 1.0),\n",
        "    \"vect__min_df\": (1, 3, 5, 10),\n",
        "    #\"vect__ngram_range\": ((1, 1), (1, 2)),  # unigrams or bigrams\n",
        "    #\"vect__norm\": (\"l1\", \"l2\"),\n",
        "    #\"clf__alpha\": np.logspace(-6, 6, 13),\n",
        "}\n",
        "\n",
        "random_search = GridSearchCV(\n",
        "    scoring='f1',\n",
        "    estimator=pipeline,\n",
        "    param_grid=parameter_grid,\n",
        "    n_jobs=2,\n",
        "    verbose=1,\n",
        ")\n",
        "\n",
        "print(\"Performing grid search...\")\n",
        "print(\"Hyperparameters to be evaluated:\")\n",
        "pprint(parameter_grid)\n",
        "\n",
        "t0 = time()\n",
        "random_search.fit(train_df['fulltext'], train_df['category'])\n",
        "print(f\"Done in {time() - t0:.3f}s\")"
      ]
    },
    {
      "cell_type": "code",
      "execution_count": 20,
      "metadata": {
        "collapsed": false
      },
      "outputs": [
        {
          "name": "stdout",
          "output_type": "stream",
          "text": [
            "Best parameters combination found:\n",
            "vect__min_df: 5\n",
            "F1-score of the best parameters using the inner CV of the random search: 0.986\n",
            "F1-score on test set: 0.980\n"
          ]
        }
      ],
      "source": [
        "from sklearn.metrics import f1_score\n",
        "\n",
        "print(\"Best parameters combination found:\")\n",
        "best_parameters = random_search.best_estimator_.get_params()\n",
        "for param_name in sorted(parameter_grid.keys()):\n",
        "    print(f\"{param_name}: {best_parameters[param_name]}\")\n",
        "\n",
        "score = random_search.score(test_df['fulltext'], test_df['category'])\n",
        "print(\n",
        "    \"F1-score of the best parameters using the inner CV of \"\n",
        "    f\"the random search: {random_search.best_score_:.3f}\"\n",
        ")\n",
        "print(f\"F1-score on test set: {score:.3f}\")"
      ]
    },
    {
      "cell_type": "markdown",
      "metadata": {},
      "source": [
        "## Autres options et résultats obtenus\n",
        "\n",
        "### Alternatives à CountVectorizer et TfidfTransformer\n",
        "\n",
        "\n",
        "### Modèle utilisé\n",
        "\n",
        "ComplementNB :\n",
        "SGDClassifier :\n",
        "\n",
        "TODO\n"
      ]
    },
    {
      "cell_type": "code",
      "execution_count": null,
      "metadata": {
        "collapsed": false
      },
      "outputs": [],
      "source": [
        "import pandas as pd\n",
        "\n",
        "\n",
        "def shorten_param(param_name):\n",
        "    \"\"\"Remove components' prefixes in param_name.\"\"\"\n",
        "    if \"__\" in param_name:\n",
        "        return param_name.rsplit(\"__\", 1)[1]\n",
        "    return param_name\n",
        "\n",
        "\n",
        "cv_results = pd.DataFrame(random_search.cv_results_)\n",
        "cv_results = cv_results.rename(shorten_param, axis=1)"
      ]
    },
    {
      "cell_type": "markdown",
      "metadata": {},
      "source": [
        "We can use a [plotly.express.scatter](https://plotly.com/python-api-reference/generated/plotly.express.scatter.html)\n",
        "to visualize the trade-off between scoring time and mean test score (i.e. \"CV\n",
        "score\"). Passing the cursor over a given point displays the corresponding\n",
        "parameters. Error bars correspond to one standard deviation as computed in the\n",
        "different folds of the cross-validation.\n",
        "\n"
      ]
    },
    {
      "cell_type": "code",
      "execution_count": null,
      "metadata": {
        "collapsed": false
      },
      "outputs": [],
      "source": [
        "import plotly.express as px\n",
        "\n",
        "param_names = [shorten_param(name) for name in parameter_grid.keys()]\n",
        "labels = {\n",
        "    \"mean_score_time\": \"CV Score time (s)\",\n",
        "    \"mean_test_score\": \"CV score (accuracy)\",\n",
        "}\n",
        "fig = px.scatter(\n",
        "    cv_results,\n",
        "    x=\"mean_score_time\",\n",
        "    y=\"mean_test_score\",\n",
        "    error_x=\"std_score_time\",\n",
        "    error_y=\"std_test_score\",\n",
        "    hover_data=param_names,\n",
        "    labels=labels,\n",
        ")\n",
        "fig.update_layout(\n",
        "    title={\n",
        "        \"text\": \"trade-off between scoring time and mean test score\",\n",
        "        \"y\": 0.95,\n",
        "        \"x\": 0.5,\n",
        "        \"xanchor\": \"center\",\n",
        "        \"yanchor\": \"top\",\n",
        "    }\n",
        ")\n",
        "fig"
      ]
    },
    {
      "cell_type": "markdown",
      "metadata": {},
      "source": [
        "Notice that the cluster of models in the upper-left corner of the plot have\n",
        "the best trade-off between accuracy and scoring time. In this case, using\n",
        "bigrams increases the required scoring time without improving considerably the\n",
        "accuracy of the pipeline.\n",
        "\n",
        "<div class=\"alert alert-info\"><h4>Note</h4><p>For more information on how to customize an automated tuning to\n",
        "   maximize score and minimize scoring time, see the example notebook\n",
        "   `sphx_glr_auto_examples_model_selection_plot_grid_search_digits.py`.</p></div>\n",
        "\n",
        "We can also use a [plotly.express.parallel_coordinates](https://plotly.com/python-api-reference/generated/plotly.express.parallel_coordinates.html)\n",
        "to further visualize the mean test score as a function of the tuned\n",
        "hyperparameters. This helps finding interactions between more than two\n",
        "hyperparameters and provide intuition on their relevance for improving the\n",
        "performance of a pipeline.\n",
        "\n",
        "We apply a `math.log10` transformation on the `alpha` axis to spread the\n",
        "active range and improve the readability of the plot. A value $x$ on\n",
        "said axis is to be understood as $10^x$.\n",
        "\n"
      ]
    },
    {
      "cell_type": "code",
      "execution_count": null,
      "metadata": {
        "collapsed": false
      },
      "outputs": [],
      "source": [
        "import math\n",
        "\n",
        "column_results = param_names + [\"mean_test_score\", \"mean_score_time\"]\n",
        "\n",
        "transform_funcs = dict.fromkeys(column_results, lambda x: x)\n",
        "# Using a logarithmic scale for alpha\n",
        "transform_funcs[\"alpha\"] = math.log10\n",
        "# L1 norms are mapped to index 1, and L2 norms to index 2\n",
        "transform_funcs[\"norm\"] = lambda x: 2 if x == \"l2\" else 1\n",
        "# Unigrams are mapped to index 1 and bigrams to index 2\n",
        "transform_funcs[\"ngram_range\"] = lambda x: x[1]\n",
        "\n",
        "fig = px.parallel_coordinates(\n",
        "    cv_results[column_results].apply(transform_funcs),\n",
        "    color=\"mean_test_score\",\n",
        "    color_continuous_scale=px.colors.sequential.Viridis_r,\n",
        "    labels=labels,\n",
        ")\n",
        "fig.update_layout(\n",
        "    title={\n",
        "        \"text\": \"Parallel coordinates plot of text classifier pipeline\",\n",
        "        \"y\": 0.99,\n",
        "        \"x\": 0.5,\n",
        "        \"xanchor\": \"center\",\n",
        "        \"yanchor\": \"top\",\n",
        "    }\n",
        ")\n",
        "fig"
      ]
    },
    {
      "cell_type": "markdown",
      "metadata": {},
      "source": [
        "The parallel coordinates plot displays the values of the hyperparameters on\n",
        "different columns while the performance metric is color coded. It is possible\n",
        "to select a range of results by clicking and holding on any axis of the\n",
        "parallel coordinate plot. You can then slide (move) the range selection and\n",
        "cross two selections to see the intersections. You can undo a selection by\n",
        "clicking once again on the same axis.\n",
        "\n",
        "In particular for this hyperparameter search, it is interesting to notice that\n",
        "the top performing models do not seem to depend on the regularization `norm`,\n",
        "but they do depend on a trade-off between `max_df`, `min_df` and the\n",
        "regularization strength `alpha`. The reason is that including noisy features\n",
        "(i.e. `max_df` close to $1.0$ or `min_df` close to $0$) tend to\n",
        "overfit and therefore require a stronger regularization to compensate. Having\n",
        "less features require less regularization and less scoring time.\n",
        "\n",
        "The best accuracy scores are obtained when `alpha` is between $10^{-6}$\n",
        "and $10^0$, regardless of the hyperparameter `norm`.\n",
        "\n"
      ]
    }
  ],
  "metadata": {
    "kernelspec": {
      "display_name": "Python 3",
      "language": "python",
      "name": "python3"
    },
    "language_info": {
      "codemirror_mode": {
        "name": "ipython",
        "version": 3
      },
      "file_extension": ".py",
      "mimetype": "text/x-python",
      "name": "python",
      "nbconvert_exporter": "python",
      "pygments_lexer": "ipython3",
      "version": "3.9.13"
    }
  },
  "nbformat": 4,
  "nbformat_minor": 0
}
