{
 "cells": [
  {
   "cell_type": "code",
   "execution_count": 2,
   "metadata": {},
   "outputs": [
    {
     "name": "stdout",
     "output_type": "stream",
     "text": [
      "Requirement already satisfied: pyAudioAnalysis in c:\\users\\lcsch\\anaconda3\\envs\\isd\\lib\\site-packages (0.3.14)\n",
      "Requirement already satisfied: pydub in c:\\users\\lcsch\\anaconda3\\envs\\isd\\lib\\site-packages (0.25.1)\n",
      "Requirement already satisfied: plotly in c:\\users\\lcsch\\anaconda3\\envs\\isd\\lib\\site-packages (5.22.0)\n",
      "Requirement already satisfied: packaging in c:\\users\\lcsch\\anaconda3\\envs\\isd\\lib\\site-packages (from plotly) (21.3)\n",
      "Requirement already satisfied: tenacity>=6.2.0 in c:\\users\\lcsch\\anaconda3\\envs\\isd\\lib\\site-packages (from plotly) (8.3.0)\n",
      "Requirement already satisfied: pyparsing!=3.0.5,>=2.0.2 in c:\\users\\lcsch\\anaconda3\\envs\\isd\\lib\\site-packages (from packaging->plotly) (3.0.9)\n",
      "Collecting ffprobe-python\n",
      "  Downloading ffprobe_python-1.0.3-py3-none-any.whl (5.7 kB)\n",
      "Installing collected packages: ffprobe-python\n",
      "Successfully installed ffprobe-python-1.0.3\n"
     ]
    },
    {
     "name": "stderr",
     "output_type": "stream",
     "text": [
      "ERROR: Could not find a version that satisfies the requirement avprobe-python (from versions: none)\n",
      "ERROR: No matching distribution found for avprobe-python\n"
     ]
    }
   ],
   "source": [
    "!pip install pyAudioAnalysis\n",
    "!pip install pydub\n",
    "!pip install plotly\n",
    "!pip install ffprobe-python\n",
    "!pip install avprobe-python"
   ]
  },
  {
   "cell_type": "code",
   "execution_count": 10,
   "metadata": {},
   "outputs": [],
   "source": [
    "from pydub import AudioSegment\n",
    "import numpy as np\n",
    "from scipy.io import wavfile\n",
    "from plotly.offline import init_notebook_mode\n",
    "import plotly.graph_objs as go\n",
    "import plotly\n",
    "import os\n",
    "\n",
    "# read the 8 mp3 files in the data folder\n",
    "files = []\n",
    "for i in range(8):\n",
    "    files.append(AudioSegment.from_mp3(\"./data/\" + str(i) + \".mp3\"))"
   ]
  }
 ],
 "metadata": {
  "kernelspec": {
   "display_name": "isd",
   "language": "python",
   "name": "python3"
  },
  "language_info": {
   "codemirror_mode": {
    "name": "ipython",
    "version": 3
   },
   "file_extension": ".py",
   "mimetype": "text/x-python",
   "name": "python",
   "nbconvert_exporter": "python",
   "pygments_lexer": "ipython3",
   "version": "3.9.13"
  }
 },
 "nbformat": 4,
 "nbformat_minor": 2
}
