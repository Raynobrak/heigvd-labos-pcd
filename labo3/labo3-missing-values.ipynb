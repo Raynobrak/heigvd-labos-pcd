{
 "cells": [
  {
   "cell_type": "markdown",
   "metadata": {},
   "source": [
    "# Labo 3 PCD : Missing values\n",
    "\n",
    "#### Auteurs : Rémi Ançay, Lucas Charbonnier\n",
    "\n",
    "\n",
    "### Objectif\n",
    "Appliquer plusieurs méthodes d’imputation à un jeu de données, examiner leur effet \n",
    "sur les performances de prédiction d’une colonne, et discuter des résultats.\n",
    "\n",
    "\n",
    "\n",
    "\n"
   ]
  },
  {
   "cell_type": "code",
   "execution_count": 79,
   "metadata": {},
   "outputs": [
    {
     "data": {
      "text/html": [
       "<div>\n",
       "<style scoped>\n",
       "    .dataframe tbody tr th:only-of-type {\n",
       "        vertical-align: middle;\n",
       "    }\n",
       "\n",
       "    .dataframe tbody tr th {\n",
       "        vertical-align: top;\n",
       "    }\n",
       "\n",
       "    .dataframe thead th {\n",
       "        text-align: right;\n",
       "    }\n",
       "</style>\n",
       "<table border=\"1\" class=\"dataframe\">\n",
       "  <thead>\n",
       "    <tr style=\"text-align: right;\">\n",
       "      <th></th>\n",
       "      <th>NAME</th>\n",
       "      <th>DEPARTMENT_NAME</th>\n",
       "      <th>TITLE</th>\n",
       "      <th>REGULAR</th>\n",
       "      <th>RETRO</th>\n",
       "      <th>OTHER</th>\n",
       "      <th>OVERTIME</th>\n",
       "      <th>INJURED</th>\n",
       "      <th>DETAIL</th>\n",
       "      <th>QUINN_EDUCATION_INCENTIVE</th>\n",
       "      <th>TOTAL_GROSS</th>\n",
       "      <th>POSTAL</th>\n",
       "    </tr>\n",
       "  </thead>\n",
       "  <tbody>\n",
       "    <tr>\n",
       "      <th>0</th>\n",
       "      <td>Beckers,Richard</td>\n",
       "      <td>Boston Police Department</td>\n",
       "      <td>Police Officer</td>\n",
       "      <td>NaN</td>\n",
       "      <td>NaN</td>\n",
       "      <td>1,264,843.63</td>\n",
       "      <td>NaN</td>\n",
       "      <td>NaN</td>\n",
       "      <td>NaN</td>\n",
       "      <td>NaN</td>\n",
       "      <td>1,264,843.63</td>\n",
       "      <td>02119</td>\n",
       "    </tr>\n",
       "    <tr>\n",
       "      <th>1</th>\n",
       "      <td>McGowan,Jacqueline M.</td>\n",
       "      <td>Boston Police Department</td>\n",
       "      <td>Police Officer</td>\n",
       "      <td>NaN</td>\n",
       "      <td>NaN</td>\n",
       "      <td>1,252,990.81</td>\n",
       "      <td>NaN</td>\n",
       "      <td>NaN</td>\n",
       "      <td>NaN</td>\n",
       "      <td>NaN</td>\n",
       "      <td>1,252,990.81</td>\n",
       "      <td>02129</td>\n",
       "    </tr>\n",
       "    <tr>\n",
       "      <th>2</th>\n",
       "      <td>Harris,Shawn N</td>\n",
       "      <td>Boston Police Department</td>\n",
       "      <td>Police Offc Comm Serv Offc 3$8</td>\n",
       "      <td>69,772.10</td>\n",
       "      <td>NaN</td>\n",
       "      <td>212,739.48</td>\n",
       "      <td>82,300.87</td>\n",
       "      <td>30,939.24</td>\n",
       "      <td>12,144.00</td>\n",
       "      <td>25,178.06</td>\n",
       "      <td>433,073.75</td>\n",
       "      <td>02130</td>\n",
       "    </tr>\n",
       "    <tr>\n",
       "      <th>3</th>\n",
       "      <td>Washington,Walter</td>\n",
       "      <td>Boston Police Department</td>\n",
       "      <td>Police Officer</td>\n",
       "      <td>100,963.38</td>\n",
       "      <td>NaN</td>\n",
       "      <td>211,900.28</td>\n",
       "      <td>67,849.66</td>\n",
       "      <td>NaN</td>\n",
       "      <td>9,016.00</td>\n",
       "      <td>10,096.55</td>\n",
       "      <td>399,825.87</td>\n",
       "      <td>02368</td>\n",
       "    </tr>\n",
       "    <tr>\n",
       "      <th>4</th>\n",
       "      <td>Mosley Jr.,Curtis</td>\n",
       "      <td>Boston Police Department</td>\n",
       "      <td>Police Offc Comm Serv Offc 3$8</td>\n",
       "      <td>109,858.02</td>\n",
       "      <td>NaN</td>\n",
       "      <td>192,097.54</td>\n",
       "      <td>75,938.65</td>\n",
       "      <td>NaN</td>\n",
       "      <td>19,550.00</td>\n",
       "      <td>NaN</td>\n",
       "      <td>397,444.21</td>\n",
       "      <td>02301</td>\n",
       "    </tr>\n",
       "    <tr>\n",
       "      <th>...</th>\n",
       "      <td>...</td>\n",
       "      <td>...</td>\n",
       "      <td>...</td>\n",
       "      <td>...</td>\n",
       "      <td>...</td>\n",
       "      <td>...</td>\n",
       "      <td>...</td>\n",
       "      <td>...</td>\n",
       "      <td>...</td>\n",
       "      <td>...</td>\n",
       "      <td>...</td>\n",
       "      <td>...</td>\n",
       "    </tr>\n",
       "    <tr>\n",
       "      <th>22547</th>\n",
       "      <td>NaN</td>\n",
       "      <td>NaN</td>\n",
       "      <td>NaN</td>\n",
       "      <td>NaN</td>\n",
       "      <td>NaN</td>\n",
       "      <td>NaN</td>\n",
       "      <td>NaN</td>\n",
       "      <td>NaN</td>\n",
       "      <td>NaN</td>\n",
       "      <td>NaN</td>\n",
       "      <td>NaN</td>\n",
       "      <td>NaN</td>\n",
       "    </tr>\n",
       "    <tr>\n",
       "      <th>22548</th>\n",
       "      <td>NaN</td>\n",
       "      <td>NaN</td>\n",
       "      <td>NaN</td>\n",
       "      <td>NaN</td>\n",
       "      <td>NaN</td>\n",
       "      <td>NaN</td>\n",
       "      <td>NaN</td>\n",
       "      <td>NaN</td>\n",
       "      <td>NaN</td>\n",
       "      <td>NaN</td>\n",
       "      <td>NaN</td>\n",
       "      <td>NaN</td>\n",
       "    </tr>\n",
       "    <tr>\n",
       "      <th>22549</th>\n",
       "      <td>NaN</td>\n",
       "      <td>NaN</td>\n",
       "      <td>NaN</td>\n",
       "      <td>NaN</td>\n",
       "      <td>NaN</td>\n",
       "      <td>NaN</td>\n",
       "      <td>NaN</td>\n",
       "      <td>NaN</td>\n",
       "      <td>NaN</td>\n",
       "      <td>NaN</td>\n",
       "      <td>NaN</td>\n",
       "      <td>NaN</td>\n",
       "    </tr>\n",
       "    <tr>\n",
       "      <th>22550</th>\n",
       "      <td>NaN</td>\n",
       "      <td>NaN</td>\n",
       "      <td>NaN</td>\n",
       "      <td>NaN</td>\n",
       "      <td>NaN</td>\n",
       "      <td>NaN</td>\n",
       "      <td>NaN</td>\n",
       "      <td>NaN</td>\n",
       "      <td>NaN</td>\n",
       "      <td>NaN</td>\n",
       "      <td>NaN</td>\n",
       "      <td>NaN</td>\n",
       "    </tr>\n",
       "    <tr>\n",
       "      <th>22551</th>\n",
       "      <td>NaN</td>\n",
       "      <td>NaN</td>\n",
       "      <td>NaN</td>\n",
       "      <td>NaN</td>\n",
       "      <td>NaN</td>\n",
       "      <td>NaN</td>\n",
       "      <td>NaN</td>\n",
       "      <td>NaN</td>\n",
       "      <td>NaN</td>\n",
       "      <td>NaN</td>\n",
       "      <td>NaN</td>\n",
       "      <td>NaN</td>\n",
       "    </tr>\n",
       "  </tbody>\n",
       "</table>\n",
       "<p>22552 rows × 12 columns</p>\n",
       "</div>"
      ],
      "text/plain": [
       "                        NAME           DEPARTMENT_NAME  \\\n",
       "0            Beckers,Richard  Boston Police Department   \n",
       "1      McGowan,Jacqueline M.  Boston Police Department   \n",
       "2             Harris,Shawn N  Boston Police Department   \n",
       "3          Washington,Walter  Boston Police Department   \n",
       "4          Mosley Jr.,Curtis  Boston Police Department   \n",
       "...                      ...                       ...   \n",
       "22547                    NaN                       NaN   \n",
       "22548                    NaN                       NaN   \n",
       "22549                    NaN                       NaN   \n",
       "22550                    NaN                       NaN   \n",
       "22551                    NaN                       NaN   \n",
       "\n",
       "                                TITLE     REGULAR RETRO         OTHER  \\\n",
       "0                      Police Officer         NaN   NaN  1,264,843.63   \n",
       "1                      Police Officer         NaN   NaN  1,252,990.81   \n",
       "2      Police Offc Comm Serv Offc 3$8   69,772.10   NaN    212,739.48   \n",
       "3                      Police Officer  100,963.38   NaN    211,900.28   \n",
       "4      Police Offc Comm Serv Offc 3$8  109,858.02   NaN    192,097.54   \n",
       "...                               ...         ...   ...           ...   \n",
       "22547                             NaN         NaN   NaN           NaN   \n",
       "22548                             NaN         NaN   NaN           NaN   \n",
       "22549                             NaN         NaN   NaN           NaN   \n",
       "22550                             NaN         NaN   NaN           NaN   \n",
       "22551                             NaN         NaN   NaN           NaN   \n",
       "\n",
       "        OVERTIME    INJURED     DETAIL QUINN_EDUCATION_INCENTIVE  \\\n",
       "0            NaN        NaN        NaN                       NaN   \n",
       "1            NaN        NaN        NaN                       NaN   \n",
       "2      82,300.87  30,939.24  12,144.00                 25,178.06   \n",
       "3      67,849.66        NaN   9,016.00                 10,096.55   \n",
       "4      75,938.65        NaN  19,550.00                       NaN   \n",
       "...          ...        ...        ...                       ...   \n",
       "22547        NaN        NaN        NaN                       NaN   \n",
       "22548        NaN        NaN        NaN                       NaN   \n",
       "22549        NaN        NaN        NaN                       NaN   \n",
       "22550        NaN        NaN        NaN                       NaN   \n",
       "22551        NaN        NaN        NaN                       NaN   \n",
       "\n",
       "        TOTAL_GROSS POSTAL  \n",
       "0      1,264,843.63  02119  \n",
       "1      1,252,990.81  02129  \n",
       "2        433,073.75  02130  \n",
       "3        399,825.87  02368  \n",
       "4        397,444.21  02301  \n",
       "...             ...    ...  \n",
       "22547           NaN    NaN  \n",
       "22548           NaN    NaN  \n",
       "22549           NaN    NaN  \n",
       "22550           NaN    NaN  \n",
       "22551           NaN    NaN  \n",
       "\n",
       "[22552 rows x 12 columns]"
      ]
     },
     "execution_count": 79,
     "metadata": {},
     "output_type": "execute_result"
    }
   ],
   "source": [
    "import numpy as np\n",
    "import pandas as pnd\n",
    "\n",
    "employeeEarning = pnd.read_csv(\"employee-earnings-report-2021.csv\", encoding=\"latin-1\")\n",
    "employeeEarning"
   ]
  },
  {
   "cell_type": "markdown",
   "metadata": {},
   "source": [
    "### Analyse des données\n",
    "\n",
    "Combien de lignes et de colonnes a le Data Frame ?\n",
    "\n",
    "Pour chaque colonne, combien y a-t-il de données manquantes ? \n",
    "\n",
    "Y a-t-il des lignes entièrement vides ?  Si oui, veuillez les supprimer. "
   ]
  },
  {
   "cell_type": "code",
   "execution_count": 80,
   "metadata": {},
   "outputs": [
    {
     "data": {
      "text/plain": [
       "(22552, 12)"
      ]
     },
     "execution_count": 80,
     "metadata": {},
     "output_type": "execute_result"
    }
   ],
   "source": [
    "#Calcule du nombre de lignes et de colonnes\n",
    "employeeEarning.shape"
   ]
  },
  {
   "cell_type": "code",
   "execution_count": 81,
   "metadata": {},
   "outputs": [
    {
     "name": "stdout",
     "output_type": "stream",
     "text": [
      "NAME 6\n",
      "DEPARTMENT_NAME 6\n",
      "TITLE 6\n",
      "REGULAR 644\n",
      "RETRO 22150\n",
      "OTHER 8423\n",
      "OVERTIME 15706\n",
      "INJURED 21096\n",
      "DETAIL 20493\n",
      "QUINN_EDUCATION_INCENTIVE 21166\n",
      "TOTAL_GROSS 6\n",
      "POSTAL 6\n"
     ]
    }
   ],
   "source": [
    "#Calcule du nombre de valeurs manquantes pour chaque colonne\n",
    "for col in employeeEarning.columns:\n",
    "    print(col + \" \" + str(employeeEarning[col].isna().sum()))"
   ]
  },
  {
   "cell_type": "code",
   "execution_count": 82,
   "metadata": {},
   "outputs": [
    {
     "data": {
      "text/plain": [
       "6"
      ]
     },
     "execution_count": 82,
     "metadata": {},
     "output_type": "execute_result"
    }
   ],
   "source": [
    "#Calcule du nombre de ligne entièrement vide\n",
    "employeeEarning.isnull().all(axis=1).sum()"
   ]
  },
  {
   "cell_type": "code",
   "execution_count": 83,
   "metadata": {},
   "outputs": [],
   "source": [
    "#Suppression des lignes vides\n",
    "employeeEarning = employeeEarning.dropna(how=\"all\")"
   ]
  },
  {
   "cell_type": "code",
   "execution_count": 95,
   "metadata": {},
   "outputs": [
    {
     "data": {
      "text/plain": [
       "231"
      ]
     },
     "execution_count": 95,
     "metadata": {},
     "output_type": "execute_result"
    }
   ],
   "source": [
    "#Nombre de département différents\n",
    "employeeEarning[\"DEPARTMENT_NAME\"].nunique()"
   ]
  },
  {
   "cell_type": "code",
   "execution_count": 84,
   "metadata": {},
   "outputs": [
    {
     "data": {
      "text/plain": [
       "DEPARTMENT_NAME\n",
       "Boston Police Department        3094\n",
       "Boston Fire Department          1692\n",
       "BPS Special Education            860\n",
       "BPS Substitute Teachers/Nurs     689\n",
       "BPS Facility Management          589\n",
       "                                ... \n",
       "Gardner Pilot  Academy             1\n",
       "WREC: Urban Science Academy        1\n",
       "Dorchester Academy                 1\n",
       "West Roxbury Academy               1\n",
       "BPS Development                    1\n",
       "Name: count, Length: 231, dtype: int64"
      ]
     },
     "execution_count": 84,
     "metadata": {},
     "output_type": "execute_result"
    }
   ],
   "source": [
    "#Liste des départements ainsi que le nombre d'employés par département\n",
    "employeeEarning[\"DEPARTMENT_NAME\"].value_counts()"
   ]
  },
  {
   "cell_type": "markdown",
   "metadata": {},
   "source": [
    "Grâce au code si dessus, nous savons que nous avons 231 départements différents et que la plupart des départements contiennent seulement quelques personnes."
   ]
  },
  {
   "cell_type": "markdown",
   "metadata": {},
   "source": [
    "### Conversion des données\n",
    "\n",
    "Nous allons maintenant convertir les colonnes qui représentent des nombres dans un type numérique Python"
   ]
  },
  {
   "cell_type": "code",
   "execution_count": 85,
   "metadata": {},
   "outputs": [],
   "source": [
    "def removeComma(x):\n",
    "    if type(x) == str:\n",
    "        return x.replace(\",\", \"\")\n",
    "    return x"
   ]
  },
  {
   "cell_type": "code",
   "execution_count": 86,
   "metadata": {},
   "outputs": [],
   "source": [
    "#Convertir les colonnes qui représentent des nombres dans un type numérique Python\n",
    "columns = [\"REGULAR\", \"RETRO\", \"OTHER\", \"OVERTIME\", \"INJURED\", \"DETAIL\", \"QUINN_EDUCATION_INCENTIVE\", \"TOTAL_GROSS\"]\n",
    "\n",
    "for col in columns:\n",
    "    employeeEarning.loc[:, col] = employeeEarning[col].apply(removeComma).astype(float)"
   ]
  },
  {
   "cell_type": "markdown",
   "metadata": {},
   "source": [
    "Nous recherchons ensuite des données abbérantes dans le jeu de données. (Si nécessaire, vous pouvez encore supprimer jusqu’à 6 personnes.)"
   ]
  },
  {
   "cell_type": "code",
   "execution_count": 87,
   "metadata": {},
   "outputs": [
    {
     "data": {
      "text/html": [
       "<div>\n",
       "<style scoped>\n",
       "    .dataframe tbody tr th:only-of-type {\n",
       "        vertical-align: middle;\n",
       "    }\n",
       "\n",
       "    .dataframe tbody tr th {\n",
       "        vertical-align: top;\n",
       "    }\n",
       "\n",
       "    .dataframe thead th {\n",
       "        text-align: right;\n",
       "    }\n",
       "</style>\n",
       "<table border=\"1\" class=\"dataframe\">\n",
       "  <thead>\n",
       "    <tr style=\"text-align: right;\">\n",
       "      <th></th>\n",
       "      <th>NAME</th>\n",
       "      <th>DEPARTMENT_NAME</th>\n",
       "      <th>TITLE</th>\n",
       "      <th>REGULAR</th>\n",
       "      <th>RETRO</th>\n",
       "      <th>OTHER</th>\n",
       "      <th>OVERTIME</th>\n",
       "      <th>INJURED</th>\n",
       "      <th>DETAIL</th>\n",
       "      <th>QUINN_EDUCATION_INCENTIVE</th>\n",
       "      <th>TOTAL_GROSS</th>\n",
       "      <th>POSTAL</th>\n",
       "    </tr>\n",
       "  </thead>\n",
       "  <tbody>\n",
       "    <tr>\n",
       "      <th>0</th>\n",
       "      <td>Beckers,Richard</td>\n",
       "      <td>Boston Police Department</td>\n",
       "      <td>Police Officer</td>\n",
       "      <td>NaN</td>\n",
       "      <td>NaN</td>\n",
       "      <td>1264843.63</td>\n",
       "      <td>NaN</td>\n",
       "      <td>NaN</td>\n",
       "      <td>NaN</td>\n",
       "      <td>NaN</td>\n",
       "      <td>1264843.63</td>\n",
       "      <td>02119</td>\n",
       "    </tr>\n",
       "    <tr>\n",
       "      <th>1</th>\n",
       "      <td>McGowan,Jacqueline M.</td>\n",
       "      <td>Boston Police Department</td>\n",
       "      <td>Police Officer</td>\n",
       "      <td>NaN</td>\n",
       "      <td>NaN</td>\n",
       "      <td>1252990.81</td>\n",
       "      <td>NaN</td>\n",
       "      <td>NaN</td>\n",
       "      <td>NaN</td>\n",
       "      <td>NaN</td>\n",
       "      <td>1252990.81</td>\n",
       "      <td>02129</td>\n",
       "    </tr>\n",
       "    <tr>\n",
       "      <th>2</th>\n",
       "      <td>Harris,Shawn N</td>\n",
       "      <td>Boston Police Department</td>\n",
       "      <td>Police Offc Comm Serv Offc 3$8</td>\n",
       "      <td>69772.1</td>\n",
       "      <td>NaN</td>\n",
       "      <td>212739.48</td>\n",
       "      <td>82300.87</td>\n",
       "      <td>30939.24</td>\n",
       "      <td>12144.0</td>\n",
       "      <td>25178.06</td>\n",
       "      <td>433073.75</td>\n",
       "      <td>02130</td>\n",
       "    </tr>\n",
       "    <tr>\n",
       "      <th>3</th>\n",
       "      <td>Washington,Walter</td>\n",
       "      <td>Boston Police Department</td>\n",
       "      <td>Police Officer</td>\n",
       "      <td>100963.38</td>\n",
       "      <td>NaN</td>\n",
       "      <td>211900.28</td>\n",
       "      <td>67849.66</td>\n",
       "      <td>NaN</td>\n",
       "      <td>9016.0</td>\n",
       "      <td>10096.55</td>\n",
       "      <td>399825.87</td>\n",
       "      <td>02368</td>\n",
       "    </tr>\n",
       "  </tbody>\n",
       "</table>\n",
       "</div>"
      ],
      "text/plain": [
       "                    NAME           DEPARTMENT_NAME  \\\n",
       "0        Beckers,Richard  Boston Police Department   \n",
       "1  McGowan,Jacqueline M.  Boston Police Department   \n",
       "2         Harris,Shawn N  Boston Police Department   \n",
       "3      Washington,Walter  Boston Police Department   \n",
       "\n",
       "                            TITLE    REGULAR RETRO       OTHER  OVERTIME  \\\n",
       "0                  Police Officer        NaN   NaN  1264843.63       NaN   \n",
       "1                  Police Officer        NaN   NaN  1252990.81       NaN   \n",
       "2  Police Offc Comm Serv Offc 3$8    69772.1   NaN   212739.48  82300.87   \n",
       "3                  Police Officer  100963.38   NaN   211900.28  67849.66   \n",
       "\n",
       "    INJURED   DETAIL QUINN_EDUCATION_INCENTIVE TOTAL_GROSS POSTAL  \n",
       "0       NaN      NaN                       NaN  1264843.63  02119  \n",
       "1       NaN      NaN                       NaN  1252990.81  02129  \n",
       "2  30939.24  12144.0                  25178.06   433073.75  02130  \n",
       "3       NaN   9016.0                  10096.55   399825.87  02368  "
      ]
     },
     "execution_count": 87,
     "metadata": {},
     "output_type": "execute_result"
    }
   ],
   "source": [
    "#Cherche de données aberrantes (outliers) dans la colonne TOTAL_GROSS\n",
    "employeeEarning.sort_values(\"TOTAL_GROSS\", ascending=False).head(4)"
   ]
  },
  {
   "cell_type": "markdown",
   "metadata": {},
   "source": [
    "Nous pouvons voir ici que Richard Beckers ainsi que Jacqueline sont tout deux à plus de 1'000'000 de \"Total Gross\". Après quelques recherches, cela s'explique par une prime de départ suite à leur licenciement.\n",
    "\n",
    "Nous avons décidé de supprimer ces deux lignes."
   ]
  },
  {
   "cell_type": "code",
   "execution_count": 88,
   "metadata": {},
   "outputs": [],
   "source": [
    "#Suppression des lignes avec des valeurs aberrantes dans la colonne TOTAL_GROSS\n",
    "employeeEarning = employeeEarning[employeeEarning[\"TOTAL_GROSS\"] < 1000000]\n",
    "\n",
    "#Suppression des colonnes non pertinentes\n",
    "employeeEarning = employeeEarning.drop(columns=[\"NAME\", \"TITLE\", \"POSTAL\"])"
   ]
  },
  {
   "cell_type": "code",
   "execution_count": 89,
   "metadata": {},
   "outputs": [
    {
     "data": {
      "text/plain": [
       "0"
      ]
     },
     "execution_count": 89,
     "metadata": {},
     "output_type": "execute_result"
    }
   ],
   "source": [
    "#On calcule le nombre de ligne entièrement vide dans notre dataset\n",
    "employeeEarning.isnull().all(axis=1).sum()"
   ]
  },
  {
   "cell_type": "markdown",
   "metadata": {},
   "source": [
    "Après quelques recherches, aucun classifieur n'accepte des données manquantes. Il nous faut donc les imputer.\n"
   ]
  },
  {
   "cell_type": "code",
   "execution_count": 90,
   "metadata": {},
   "outputs": [],
   "source": [
    "from sklearn.impute import SimpleImputer\n",
    "from sklearn.impute import KNNImputer\n",
    "from sklearn.experimental import enable_iterative_imputer\n",
    "from sklearn.impute import IterativeImputer\n",
    "\n",
    "#Liste des imputers\n",
    "imputers = [\n",
    "    SimpleImputer(strategy=\"constant\", fill_value=0),\n",
    "    SimpleImputer(strategy=\"mean\"),\n",
    "    KNNImputer(),\n",
    "    IterativeImputer()\n",
    "    ]\n",
    "\n",
    "#liste des nom des imputers\n",
    "imputer_names = [\n",
    "    \"Zero\",\n",
    "    \"Mean\",\n",
    "    \"KNN\",\n",
    "    \"Iterative\"\n",
    "    ]\n",
    "\n",
    "#Liste des classifieurs\n",
    "from sklearn.tree import DecisionTreeClassifier\n",
    "from sklearn.ensemble import RandomForestClassifier\n",
    "from sklearn.neighbors import KNeighborsClassifier\n",
    "\n",
    "classifiers = [\n",
    "    KNeighborsClassifier(),\n",
    "    DecisionTreeClassifier(),\n",
    "    RandomForestClassifier()\n",
    "    ]\n",
    "\n",
    "#Liste des noms des classifieurs\n",
    "classifier_names = [\n",
    "    \"KNN\",\n",
    "    \"Decision Tree\",\n",
    "    \"Random Forest\"\n",
    "    ]\n",
    "\n",
    "\n"
   ]
  },
  {
   "cell_type": "code",
   "execution_count": 91,
   "metadata": {},
   "outputs": [],
   "source": [
    "#Séparation en données d'entrainement et données de test\n",
    "from sklearn.model_selection import train_test_split\n",
    "X = employeeEarning.drop(columns=\"DEPARTMENT_NAME\")\n",
    "y = employeeEarning[\"DEPARTMENT_NAME\"]\n",
    "X_train, X_test, y_train, y_test = train_test_split(X, y, test_size=0.1, random_state=42)"
   ]
  },
  {
   "cell_type": "markdown",
   "metadata": {},
   "source": [
    "###  Premier test : Si on attribue à tous les items la classe majoritaire, quel score F1 avec micro-moyenne obtient-on ?"
   ]
  },
  {
   "cell_type": "code",
   "execution_count": 92,
   "metadata": {},
   "outputs": [
    {
     "name": "stdout",
     "output_type": "stream",
     "text": [
      "F1 score (micro) :  13.880266075388025 %\n"
     ]
    }
   ],
   "source": [
    "# Si on attribue à tous les items la classe majoritaire, quel score F1 avec micro-moyenne obtient-on ?\n",
    "from sklearn.metrics import f1_score\n",
    "from sklearn.dummy import DummyClassifier\n",
    "dummy = DummyClassifier(strategy=\"most_frequent\")\n",
    "dummy.fit(X_train, y_train)\n",
    "y_pred = dummy.predict(X_test)\n",
    "print(\"F1 score (micro) : \", f1_score(y_test, y_pred, average=\"micro\") * 100, \"%\")"
   ]
  },
  {
   "cell_type": "markdown",
   "metadata": {},
   "source": [
    "Nous pouvons voir que le F1 score obtenu est vraiment faible (13.8 %). Ce n'est donc pas une très bonne idée d'utiliser cette méthode."
   ]
  },
  {
   "cell_type": "markdown",
   "metadata": {},
   "source": [
    "### Tests des 12 combinaisons de méthodes d’imputation et de classifieurs"
   ]
  },
  {
   "cell_type": "code",
   "execution_count": 93,
   "metadata": {},
   "outputs": [
    {
     "name": "stdout",
     "output_type": "stream",
     "text": [
      "Imputer :  SimpleImputer(fill_value=0, strategy='constant') Classifier :  KNeighborsClassifier()\n",
      "Imputer :  SimpleImputer(fill_value=0, strategy='constant') Classifier :  DecisionTreeClassifier()\n"
     ]
    },
    {
     "name": "stdout",
     "output_type": "stream",
     "text": [
      "Imputer :  SimpleImputer(fill_value=0, strategy='constant') Classifier :  RandomForestClassifier()\n",
      "Imputer :  SimpleImputer() Classifier :  KNeighborsClassifier()\n",
      "Imputer :  SimpleImputer() Classifier :  DecisionTreeClassifier()\n",
      "Imputer :  SimpleImputer() Classifier :  RandomForestClassifier()\n",
      "Imputer :  KNNImputer() Classifier :  KNeighborsClassifier()\n",
      "Imputer :  KNNImputer() Classifier :  DecisionTreeClassifier()\n",
      "Imputer :  KNNImputer() Classifier :  RandomForestClassifier()\n",
      "Imputer :  IterativeImputer() Classifier :  KNeighborsClassifier()\n",
      "Imputer :  IterativeImputer() Classifier :  DecisionTreeClassifier()\n",
      "Imputer :  IterativeImputer() Classifier :  RandomForestClassifier()\n"
     ]
    }
   ],
   "source": [
    "#Création d'un dataframe pour stocker les résultats\n",
    "results = pnd.DataFrame(columns=[\"Imputer\", \"Classifier\", \"F1 score (micro)\", \"F1 score (macro)\"])\n",
    "\n",
    "#Boucle pour tester toutes les combinaisons\n",
    "for imputer in imputers:\n",
    "    for classifier in classifiers:\n",
    "        print(\"Imputer : \", imputer, \"Classifier : \", classifier)\n",
    "        imputer.fit(X_train)\n",
    "        X_train_imputed = imputer.transform(X_train)\n",
    "        X_test_imputed = imputer.transform(X_test)\n",
    "        classifier.fit(X_train_imputed, y_train)\n",
    "        y_pred = classifier.predict(X_test_imputed)\n",
    "        results.loc[len(results)] = [imputer_names[imputers.index(imputer)], classifier_names[classifiers.index(classifier)], f1_score(y_test, y_pred, average=\"micro\") * 100, f1_score(y_test, y_pred, average=\"macro\") * 100]"
   ]
  },
  {
   "cell_type": "code",
   "execution_count": 94,
   "metadata": {},
   "outputs": [
    {
     "data": {
      "text/html": [
       "<div>\n",
       "<style scoped>\n",
       "    .dataframe tbody tr th:only-of-type {\n",
       "        vertical-align: middle;\n",
       "    }\n",
       "\n",
       "    .dataframe tbody tr th {\n",
       "        vertical-align: top;\n",
       "    }\n",
       "\n",
       "    .dataframe thead th {\n",
       "        text-align: right;\n",
       "    }\n",
       "</style>\n",
       "<table border=\"1\" class=\"dataframe\">\n",
       "  <thead>\n",
       "    <tr style=\"text-align: right;\">\n",
       "      <th></th>\n",
       "      <th>Imputer</th>\n",
       "      <th>Classifier</th>\n",
       "      <th>F1 score (micro)</th>\n",
       "      <th>F1 score (macro)</th>\n",
       "    </tr>\n",
       "  </thead>\n",
       "  <tbody>\n",
       "    <tr>\n",
       "      <th>2</th>\n",
       "      <td>Zero</td>\n",
       "      <td>Random Forest</td>\n",
       "      <td>28.115299</td>\n",
       "      <td>7.449686</td>\n",
       "    </tr>\n",
       "    <tr>\n",
       "      <th>5</th>\n",
       "      <td>Mean</td>\n",
       "      <td>Random Forest</td>\n",
       "      <td>27.982262</td>\n",
       "      <td>7.327908</td>\n",
       "    </tr>\n",
       "    <tr>\n",
       "      <th>8</th>\n",
       "      <td>KNN</td>\n",
       "      <td>Random Forest</td>\n",
       "      <td>26.917960</td>\n",
       "      <td>6.681993</td>\n",
       "    </tr>\n",
       "    <tr>\n",
       "      <th>11</th>\n",
       "      <td>Iterative</td>\n",
       "      <td>Random Forest</td>\n",
       "      <td>26.784922</td>\n",
       "      <td>6.617917</td>\n",
       "    </tr>\n",
       "    <tr>\n",
       "      <th>4</th>\n",
       "      <td>Mean</td>\n",
       "      <td>Decision Tree</td>\n",
       "      <td>26.474501</td>\n",
       "      <td>6.849762</td>\n",
       "    </tr>\n",
       "    <tr>\n",
       "      <th>1</th>\n",
       "      <td>Zero</td>\n",
       "      <td>Decision Tree</td>\n",
       "      <td>25.631929</td>\n",
       "      <td>6.134603</td>\n",
       "    </tr>\n",
       "    <tr>\n",
       "      <th>10</th>\n",
       "      <td>Iterative</td>\n",
       "      <td>Decision Tree</td>\n",
       "      <td>25.410200</td>\n",
       "      <td>7.152394</td>\n",
       "    </tr>\n",
       "    <tr>\n",
       "      <th>9</th>\n",
       "      <td>Iterative</td>\n",
       "      <td>KNN</td>\n",
       "      <td>23.813747</td>\n",
       "      <td>5.140780</td>\n",
       "    </tr>\n",
       "    <tr>\n",
       "      <th>3</th>\n",
       "      <td>Mean</td>\n",
       "      <td>KNN</td>\n",
       "      <td>23.725055</td>\n",
       "      <td>5.115490</td>\n",
       "    </tr>\n",
       "    <tr>\n",
       "      <th>7</th>\n",
       "      <td>KNN</td>\n",
       "      <td>Decision Tree</td>\n",
       "      <td>23.325942</td>\n",
       "      <td>5.628248</td>\n",
       "    </tr>\n",
       "    <tr>\n",
       "      <th>0</th>\n",
       "      <td>Zero</td>\n",
       "      <td>KNN</td>\n",
       "      <td>23.148559</td>\n",
       "      <td>4.965523</td>\n",
       "    </tr>\n",
       "    <tr>\n",
       "      <th>6</th>\n",
       "      <td>KNN</td>\n",
       "      <td>KNN</td>\n",
       "      <td>22.793792</td>\n",
       "      <td>5.102739</td>\n",
       "    </tr>\n",
       "  </tbody>\n",
       "</table>\n",
       "</div>"
      ],
      "text/plain": [
       "      Imputer     Classifier  F1 score (micro)  F1 score (macro)\n",
       "2        Zero  Random Forest         28.115299          7.449686\n",
       "5        Mean  Random Forest         27.982262          7.327908\n",
       "8         KNN  Random Forest         26.917960          6.681993\n",
       "11  Iterative  Random Forest         26.784922          6.617917\n",
       "4        Mean  Decision Tree         26.474501          6.849762\n",
       "1        Zero  Decision Tree         25.631929          6.134603\n",
       "10  Iterative  Decision Tree         25.410200          7.152394\n",
       "9   Iterative            KNN         23.813747          5.140780\n",
       "3        Mean            KNN         23.725055          5.115490\n",
       "7         KNN  Decision Tree         23.325942          5.628248\n",
       "0        Zero            KNN         23.148559          4.965523\n",
       "6         KNN            KNN         22.793792          5.102739"
      ]
     },
     "execution_count": 94,
     "metadata": {},
     "output_type": "execute_result"
    }
   ],
   "source": [
    "#Si on trie les résultats par score F1, nous obtenons les combinaisons gagnantes\n",
    "results.sort_values(\"F1 score (micro)\", ascending=False)"
   ]
  },
  {
   "cell_type": "markdown",
   "metadata": {},
   "source": [
    "La plupart des résultats sont très proches. Cependant, nous pouvons voir que la méthode de l'imputation par des zéro avec un classifieur de type \"Random Forest\" est la meilleure. En effet, elle obtient un score de 0.281, ce qui est le meilleur score obtenu."
   ]
  },
  {
   "cell_type": "markdown",
   "metadata": {},
   "source": [
    "Comment se comparent les scores F1 avec micro-moyenne par rapport à ceux calculés \n",
    "avec une macro-moyenne ?\n",
    "\n",
    "- Nous pouvons voir que les scores F1 avec micro-moyenne sont plus élevés que ceux calculés avec une macro-moyenne. Cela s'explique par le fait que la micro-moyenne donne plus de poids aux classes les plus fréquentes."
   ]
  },
  {
   "cell_type": "markdown",
   "metadata": {},
   "source": [
    "### Remarques\n",
    "\n",
    "Nous trouvons que les scores obtenus sont très bas. Cela s'explique cependant par le fait que les données ne sont pas vraiment prévisible. Le nombre élevé de classe à determiner, le nombre de données manquantes ainsi que le fait que les donnée soit très proche les unes des autres rendent la prédiction difficile."
   ]
  }
 ],
 "metadata": {
  "kernelspec": {
   "display_name": "Labo1",
   "language": "python",
   "name": "python3"
  },
  "language_info": {
   "codemirror_mode": {
    "name": "ipython",
    "version": 3
   },
   "file_extension": ".py",
   "mimetype": "text/x-python",
   "name": "python",
   "nbconvert_exporter": "python",
   "pygments_lexer": "ipython3",
   "version": "3.11.7"
  }
 },
 "nbformat": 4,
 "nbformat_minor": 2
}
